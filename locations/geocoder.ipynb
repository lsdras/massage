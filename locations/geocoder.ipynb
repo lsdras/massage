{
 "cells": [
  {
   "cell_type": "code",
   "execution_count": null,
   "metadata": {},
   "outputs": [],
   "source": [
    "from source.naver_geocode import NAVERGeocoding\n",
    "import pandas as pd\n",
    "from tqdm import tqdm"
   ]
  },
  {
   "cell_type": "code",
   "execution_count": null,
   "metadata": {},
   "outputs": [],
   "source": [
    "#load_path, save_path = \"./government/running_stores.csv\", \"./government/government_geolocated.csv\"\n",
    "#load_path, save_path = \"./anmawon/anmawon.csv\", \"./anmawon/anmawon_geolocated.csv\""
   ]
  },
  {
   "cell_type": "code",
   "execution_count": null,
   "metadata": {},
   "outputs": [],
   "source": [
    "geocoding = NAVERGeocoding(secret_key_path=\"../ts_code/sources/json/secret.json\", geocode_url=\"https://naveropenapi.apigw.ntruss.com/map-geocode/v2/geocode\")"
   ]
  },
  {
   "cell_type": "code",
   "execution_count": null,
   "metadata": {},
   "outputs": [],
   "source": [
    "data = pd.read_csv(load_path)\n",
    "data.fillna(\"\", inplace=True)\n",
    "data[\"x\"], data[\"y\"], data[\"NAVER_addr\"]= [\"\",\"\",\"\"]\n",
    "\n",
    "for idx, row in tqdm(data.iterrows()):\n",
    "    try:\n",
    "        addr = row[\"주소\"]\n",
    "        x, y, naver_addr = geocoding(addr)\n",
    "        data.loc[idx, [\"x\", \"y\", \"NAVER_addr\"]] = x, y, naver_addr\n",
    "    except Exception as e:  # 예외 발생한 아웃라이어에 대해서는 직접 수정 필요\n",
    "        print(idx, e)\n",
    "        pass\n",
    "\n",
    "data.to_csv(save_path,sep=\",\", header=True, index=False)"
   ]
  }
 ],
 "metadata": {
  "kernelspec": {
   "display_name": "Python 3.9.12 ('massage')",
   "language": "python",
   "name": "python3"
  },
  "language_info": {
   "codemirror_mode": {
    "name": "ipython",
    "version": 3
   },
   "file_extension": ".py",
   "mimetype": "text/x-python",
   "name": "python",
   "nbconvert_exporter": "python",
   "pygments_lexer": "ipython3",
   "version": "3.9.12"
  },
  "orig_nbformat": 4,
  "vscode": {
   "interpreter": {
    "hash": "bcbe9af89f9ced2b5dfb92dfe5f8eef0d5165b908ed2874fc78a6dad57207d2c"
   }
  }
 },
 "nbformat": 4,
 "nbformat_minor": 2
}
