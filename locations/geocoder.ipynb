{
 "cells": [
  {
   "cell_type": "code",
   "execution_count": null,
   "metadata": {},
   "outputs": [],
   "source": [
    "import requests\n",
    "import pandas as pd\n",
    "import json\n",
    "from tqdm import tqdm\n"
   ]
  },
  {
   "cell_type": "code",
   "execution_count": null,
   "metadata": {},
   "outputs": [],
   "source": [
    "class NAVERGeocoding:\n",
    "    # https://api.ncloud-docs.com/docs/ai-naver-mapsgeocoding-geocode\n",
    "    def __init__(self, secret_key_path: str, geocode_url: str) -> None:\n",
    "        with open(secret_key_path, \"r\") as f:\n",
    "            secret = json.load(f)\n",
    "        self.__HEADER = {\"X-NCP-APIGW-API-KEY-ID\":secret[\"NAVER\"][\"ID\"], \"X-NCP-APIGW-API-KEY\": secret[\"NAVER\"][\"SECRET_KEY\"], \"Accept\":\"application/json\"}\n",
    "        self.__GEOCODE_URL = geocode_url\n",
    "\n",
    "    def _get_response(self, params: dict) -> dict:\n",
    "        res = requests.get(url=self.__GEOCODE_URL,params=params, headers=self.__HEADER)\n",
    "        assert res.status_code == int(200), res.status_code\n",
    "        assert res.json()[\"status\"] == \"OK\", res.json()[\"status\"]\n",
    "        return res.json()\n",
    "\n",
    "    def get_normalized_address(self, address: str, count: int=1) -> tuple[str, str, str]:\n",
    "        \n",
    "        inp = {\"query\": address, \"count\": count}\n",
    "\n",
    "        response = self._get_response(inp)\n",
    "        list_responsed_address = response[\"addresses\"]\n",
    "\n",
    "        assert len(list_responsed_address) == count, print(response)\n",
    "        responsed_address = list_responsed_address[0]\n",
    "        \n",
    "        NAVER_roadAddress = responsed_address[\"roadAddress\"]\n",
    "        x_coord = responsed_address[\"x\"]\n",
    "        y_coord = responsed_address[\"y\"]\n",
    "        return x_coord, y_coord,  NAVER_roadAddress\n",
    "    \n",
    "    def __call__(self, *args, **kwargs):\n",
    "        return self.get_normalized_address(*args, **kwargs)\n"
   ]
  },
  {
   "cell_type": "code",
   "execution_count": null,
   "metadata": {},
   "outputs": [],
   "source": [
    "geocoding = NAVERGeocoding(secret_key_path=\"/home/seungwon/workspace/massage/ts_code/sources/json/secret.json\", geocode_url=\"https://naveropenapi.apigw.ntruss.com/map-geocode/v2/geocode\")\n",
    "\n",
    "#load_path, save_path = \"/home/seungwon/workspace/massage/locations/government/running_stores.csv\", \"government_geolocated.csv\"\n",
    "load_path, save_path = \"/home/seungwon/workspace/massage/locations/anmawon/anmawon.csv\", \"anmawon_geolocated.csv\"\n",
    "\n",
    "data = pd.read_csv(load_path)\n",
    "data.fillna(\"\", inplace=True)\n",
    "data[\"x\"], data[\"y\"], data[\"NAVER_addr\"]= [\"\",\"\",\"\"]\n"
   ]
  },
  {
   "cell_type": "code",
   "execution_count": null,
   "metadata": {},
   "outputs": [],
   "source": [
    "for idx, row in tqdm(data.iterrows()):\n",
    "    try:\n",
    "        addr = row[\"주소\"]\n",
    "        x, y, naver_addr = geocoding(addr)\n",
    "        data.loc[idx, [\"x\", \"y\", \"NAVER_addr\"]] = x, y, naver_addr\n",
    "    except Exception as e:  # 예외 발생한 아웃라이어에 대해서는 직접 수정 필요\n",
    "        print(idx, e)\n",
    "        pass\n"
   ]
  },
  {
   "cell_type": "code",
   "execution_count": null,
   "metadata": {},
   "outputs": [],
   "source": [
    "data.to_csv(save_path,sep=\",\", header=True, index=False)"
   ]
  }
 ],
 "metadata": {
  "kernelspec": {
   "display_name": "Python 3.9.12 ('massage')",
   "language": "python",
   "name": "python3"
  },
  "language_info": {
   "codemirror_mode": {
    "name": "ipython",
    "version": 3
   },
   "file_extension": ".py",
   "mimetype": "text/x-python",
   "name": "python",
   "nbconvert_exporter": "python",
   "pygments_lexer": "ipython3",
   "version": "3.9.12"
  },
  "orig_nbformat": 4,
  "vscode": {
   "interpreter": {
    "hash": "bcbe9af89f9ced2b5dfb92dfe5f8eef0d5165b908ed2874fc78a6dad57207d2c"
   }
  }
 },
 "nbformat": 4,
 "nbformat_minor": 2
}
