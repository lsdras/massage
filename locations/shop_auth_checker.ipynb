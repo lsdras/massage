{
 "cells": [
  {
   "cell_type": "code",
   "execution_count": null,
   "metadata": {},
   "outputs": [],
   "source": [
    "#A = gov\n",
    "#B = anmawon\n",
    "#total = union(A,B)\n",
    "#safe_shop = intersection(total, B)"
   ]
  },
  {
   "cell_type": "code",
   "execution_count": 1,
   "metadata": {},
   "outputs": [],
   "source": [
    "path_union_shop = \"./anmawon/local_update.csv\"\n",
    "path_gov_shop = \"./government/manual_edit_government_geolocated.csv\"\n",
    "\n",
    "import pandas as pd\n",
    "import math"
   ]
  },
  {
   "cell_type": "code",
   "execution_count": 3,
   "metadata": {},
   "outputs": [],
   "source": [
    "\n",
    "gov_shop = pd.read_csv(path_gov_shop)\n",
    "anmawon_union_shop = pd.read_csv(path_union_shop)\n",
    "\n",
    "\n",
    "del anmawon_union_shop[\"region\"]\n",
    "anmawon_union_shop[\"checked\"] = True\n",
    "\n",
    "\n",
    "unique_addr_list = list(set(anmawon_union_shop.loc[:, \"NAVER_addr\"]).union(set(gov_shop.loc[:, \"NAVER_addr\"])))\n"
   ]
  },
  {
   "cell_type": "code",
   "execution_count": 4,
   "metadata": {},
   "outputs": [
    {
     "name": "stderr",
     "output_type": "stream",
     "text": [
      "/tmp/ipykernel_300/498848561.py:32: FutureWarning: The frame.append method is deprecated and will be removed from pandas in a future version. Use pandas.concat instead.\n",
      "  final_data = final_data.append(final_data_list, ignore_index=False, sort=False)\n"
     ]
    }
   ],
   "source": [
    "final_data_list = []\n",
    "for unique_addr in unique_addr_list:\n",
    "    if (gov_shop['NAVER_addr'].eq(unique_addr)).any():\n",
    "        row = gov_shop.loc[gov_shop['NAVER_addr'] == unique_addr].to_dict(orient=\"records\")[0]\n",
    "        name, phone, x, y = [row.get(key) for key in [\"name\", \"phone\", \"x\", \"y\"]]\n",
    "        # check union(gov, anmawon)\n",
    "        if (anmawon_union_shop['NAVER_addr'].eq(unique_addr)).any():\n",
    "            row = anmawon_union_shop.loc[anmawon_union_shop['NAVER_addr'] == unique_addr].to_dict(orient=\"records\")[0]\n",
    "            link, checked = row[\"link\"], \"O\"\n",
    "            if isinstance(phone, float):\n",
    "                if math.isnan(phone):\n",
    "                    phone = row[\"phone\"]\n",
    "        else:\n",
    "            link, checked = \"\", \"X\"\n",
    "\n",
    "    else:  # only in anmawon_union_shop\n",
    "        row = anmawon_union_shop.loc[anmawon_union_shop['NAVER_addr'] == unique_addr].to_dict(orient=\"records\")[0]\n",
    "        name, phone, x, y = [row.get(key) for key in [\"name\", \"phone\", \"x\", \"y\"]]\n",
    "        link, checked = row[\"link\"], \"???(정부사이트X, 협회사이트O)\"\n",
    "\n",
    "    final_data_list.append(\n",
    "        {'unique_addr': unique_addr,\n",
    "        'name': name,\n",
    "        'phone':phone,\n",
    "        'x':x ,\n",
    "        'y':y ,\n",
    "        'link': link ,\n",
    "        'checked':checked })\n",
    "\n",
    "final_data = pd.DataFrame({c: pd.Series(dtype=t) for c, t in {'unique_addr': 'str', 'name': 'str', 'phone': 'str', 'x':\"float\", 'y':'float', 'checked':'str', 'link':'str'}.items()})\n",
    "\n",
    "final_data = final_data.append(final_data_list, ignore_index=False, sort=False)\n"
   ]
  },
  {
   "cell_type": "code",
   "execution_count": 5,
   "metadata": {},
   "outputs": [],
   "source": [
    "with open(\"final_data.json\", \"w\", encoding=\"utf-8\") as f:\n",
    "    final_data.to_json(f, orient=\"records\", force_ascii=False)\n",
    "\n",
    "    # then, manually change to .js format as \"var data = [....]\""
   ]
  }
 ],
 "metadata": {
  "kernelspec": {
   "display_name": "Python 3.9.12 ('massage')",
   "language": "python",
   "name": "python3"
  },
  "language_info": {
   "codemirror_mode": {
    "name": "ipython",
    "version": 3
   },
   "file_extension": ".py",
   "mimetype": "text/x-python",
   "name": "python",
   "nbconvert_exporter": "python",
   "pygments_lexer": "ipython3",
   "version": "3.9.12"
  },
  "orig_nbformat": 4,
  "vscode": {
   "interpreter": {
    "hash": "bcbe9af89f9ced2b5dfb92dfe5f8eef0d5165b908ed2874fc78a6dad57207d2c"
   }
  }
 },
 "nbformat": 4,
 "nbformat_minor": 2
}
