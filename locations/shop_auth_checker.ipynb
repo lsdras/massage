{
 "cells": [
  {
   "cell_type": "code",
   "execution_count": null,
   "metadata": {},
   "outputs": [],
   "source": [
    "#A = gov\n",
    "#B = anmawon\n",
    "#total = union(A,B)\n",
    "#safe_shop = intersection(total, B)"
   ]
  },
  {
   "cell_type": "code",
   "execution_count": 2,
   "metadata": {},
   "outputs": [],
   "source": [
    "path_gov_shop = \"manual_edit_government_REgeolocated.csv\"\n",
    "path_anmawon_union = \"manual_edit_anmawon_REgeolocated.csv\"\n",
    "\n",
    "import pandas as pd\n"
   ]
  },
  {
   "cell_type": "code",
   "execution_count": 3,
   "metadata": {},
   "outputs": [],
   "source": [
    "\n",
    "gov_shop = pd.read_csv(path_gov_shop)\n",
    "anmawon_union_shop = pd.read_csv(path_anmawon_union)\n",
    "\n",
    "gov_shop.rename(columns={\"사업장명\":\"name\", \"주소\": \"addr\", \"전화\": \"phone\"}, inplace=True)\n",
    "\n",
    "del anmawon_union_shop[\"지역\"]\n",
    "anmawon_union_shop[\"checked\"] = True\n",
    "\n",
    "anmawon_union_shop.rename(columns={\"사업장명\":\"name\", \"주소\": \"addr\", \"전화번호\": \"phone\", \"링크\": \"hlink\"}, inplace=True)\n",
    "for index, row in anmawon_union_shop.iterrows():\n",
    "    new_link = \"http://www.anmawon.com/FindShop/Detail?shopId=\" + str(row.loc[\"hlink\"][24:])  # replace /FindShop/Detail?shopId=\n",
    "    anmawon_union_shop.at[index, \"hlink\"] = new_link\n",
    "\n",
    "unique_addr_list = list(set(anmawon_union_shop.loc[:, \"NAVER_addr\"]).union(set(gov_shop.loc[:, \"NAVER_addr\"])))\n"
   ]
  },
  {
   "cell_type": "code",
   "execution_count": 10,
   "metadata": {},
   "outputs": [
    {
     "data": {
      "text/plain": [
       "1420"
      ]
     },
     "execution_count": 10,
     "metadata": {},
     "output_type": "execute_result"
    }
   ],
   "source": [
    "final_data = pd.DataFrame(columns = ['unique_addr', 'name', 'phone', 'x', 'y', 'checked', 'hlink'])"
   ]
  },
  {
   "cell_type": "code",
   "execution_count": null,
   "metadata": {},
   "outputs": [],
   "source": [
    "for addr in unique_addr_list:\n",
    "    \n",
    "    final_data = final_data.append({'unique_addr', 'name', 'phone', 'x', 'y', 'checked', 'hlink'},\n",
    "        ignore_index = True)"
   ]
  },
  {
   "cell_type": "code",
   "execution_count": null,
   "metadata": {},
   "outputs": [],
   "source": [
    "with open( encoding=\"utf-8\") as f:\n",
    "    pd.to_json(\"final_data.js\", orient=\"records\", force_ascii=False)\n",
    "\n",
    "    # then, manually change to .js format as \"var data = [....]\""
   ]
  }
 ],
 "metadata": {
  "kernelspec": {
   "display_name": "Python 3.9.12 ('massage')",
   "language": "python",
   "name": "python3"
  },
  "language_info": {
   "codemirror_mode": {
    "name": "ipython",
    "version": 3
   },
   "file_extension": ".py",
   "mimetype": "text/x-python",
   "name": "python",
   "nbconvert_exporter": "python",
   "pygments_lexer": "ipython3",
   "version": "3.9.12"
  },
  "orig_nbformat": 4,
  "vscode": {
   "interpreter": {
    "hash": "bcbe9af89f9ced2b5dfb92dfe5f8eef0d5165b908ed2874fc78a6dad57207d2c"
   }
  }
 },
 "nbformat": 4,
 "nbformat_minor": 2
}
