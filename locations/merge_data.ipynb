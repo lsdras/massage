{
 "cells": [
  {
   "cell_type": "code",
   "execution_count": 24,
   "metadata": {},
   "outputs": [],
   "source": [
    "import os\n",
    "from pathlib import Path\n",
    "from source.naver_geocode import NAVERGeocoding\n",
    "import pandas as pd\n",
    "from tqdm import tqdm\n",
    "#load_path = \"./anmawon/local_update_keep.csv\"\n",
    "save_path = \"./anmawon/local_update.csv\""
   ]
  },
  {
   "cell_type": "code",
   "execution_count": 25,
   "metadata": {},
   "outputs": [],
   "source": [
    "if Path(save_path).exists():\n",
    "    data = pd.read_csv(save_path)\n",
    "else:\n",
    "    region1 = pd.read_csv(\"./anmawon/regions/Busan.csv\")\n",
    "    region1 = region1.assign(region=\"부산\")\n",
    "    region1 = region1.assign(link=\"http://xn--hz2b11ew7coa499cy81avya.kr/skin/sub_page.php?page_idx=141\")\n",
    "    \n",
    "    region2 = pd.read_csv(\"./anmawon/regions/Daegu.csv\")\n",
    "    region2 = region2.assign(region=\"대구\")\n",
    "\n",
    "    region3 = pd.read_csv(\"./anmawon/regions/GyeongsangNorth.csv\")\n",
    "    region3 = region3.assign(region=\"경북\")\n",
    "\n",
    "    region4 = pd.read_csv(\"./anmawon/regions/GyeongsangSouth.csv\")\n",
    "    region4 = region4.assign(region=\"경남\")\n",
    "\n",
    "    region5 = pd.read_csv(\"./anmawon/regions/Incheon.csv\")\n",
    "    region5 = region5.assign(region=\"인천\")\n",
    "\n",
    "    region6 = pd.read_csv(\"./anmawon/regions/Ulsan.csv\")\n",
    "    region6 = region6.assign(region=\"울산\")\n",
    "    region6 = region6.assign(link=\"http://usanma.or.kr/bbs/content.php?co_id=d_c\")\n",
    "\n",
    "\n",
    "    total = pd.concat([region1,region2,region3,region4,region5,region6], ignore_index=True)\n",
    "    total = total[[\"name\", \"addr\", \"phone\", \"link\", \"region\"]]\n",
    "\n",
    "    #centeral = pd.read_csv(\"./anmawon/regions/center.csv\")\n",
    "\n",
    "    prepared = pd.read_csv(\"./anmawon/manual_edit_anmawon_geolocated.csv\")\n",
    "    prepared.rename(columns={\"지역\":\"region\",\"사업장명\":\"name\",\"주소\":\"addr\",\"전화번호\":\"phone\",\"링크\":\"link\"}, inplace=True)\n",
    "    not_regioned = [\"서울\", \"경기\", \"광주\", \"대전\", \"강원\", \"충북\", \"충남\", \"대전\", \"전북\", \"전남\", \"제주\"]\n",
    "    prepared = prepared.loc[prepared['region'].isin(not_regioned)]\n",
    "    data = pd.concat([total, prepared], ignore_index=True)\n"
   ]
  },
  {
   "cell_type": "code",
   "execution_count": 26,
   "metadata": {},
   "outputs": [],
   "source": [
    "geocoding = NAVERGeocoding(secret_key_path=\"../sources/json/secret.json\", geocode_url=\"https://naveropenapi.apigw.ntruss.com/map-geocode/v2/geocode\")"
   ]
  },
  {
   "cell_type": "code",
   "execution_count": 27,
   "metadata": {},
   "outputs": [
    {
     "name": "stderr",
     "output_type": "stream",
     "text": [
      "833it [00:00, 35517.85it/s]\n"
     ]
    }
   ],
   "source": [
    "data.fillna(\"\", inplace=True)\n",
    "for idx, row in tqdm(data.iterrows()):\n",
    "    if row[\"x\"] and row[\"y\"] and row[\"NAVER_addr\"] :\n",
    "        continue  # fill empty cases only\n",
    "    try:\n",
    "        addr = row[\"addr\"]\n",
    "        x, y, naver_addr = geocoding(addr)\n",
    "        data.loc[idx, [\"x\", \"y\", \"NAVER_addr\"]] = x, y, naver_addr\n",
    "    except Exception as e:  # 예외 발생한 아웃라이어에 대해서는 직접 수정 필요\n",
    "        print(idx, e)\n",
    "        pass\n",
    "data.to_csv(save_path,sep=\",\", header=True, index=False)"
   ]
  },
  {
   "cell_type": "code",
   "execution_count": 28,
   "metadata": {},
   "outputs": [
    {
     "name": "stderr",
     "output_type": "stream",
     "text": [
      "833it [00:00, 2645.94it/s]\n"
     ]
    }
   ],
   "source": [
    "data.fillna(\"\", inplace=True)\n",
    "for idx, row in tqdm(data.iterrows()):\n",
    "    if row[\"region\"] == \"부산\":\n",
    "        data.loc[idx, [\"link\"]] = \"http://xn--hz2b11ew7coa499cy81avya.kr/skin/sub_page.php?page_idx=141\"\n",
    "    if row[\"region\"] == \"울산\":\n",
    "        data.loc[idx, [\"link\"]] = \"http://usanma.or.kr/bbs/content.php?co_id=d_c\"\n",
    "    if row[\"link\"].startswith(\"/FindShop\") :\n",
    "        link_str = row[\"link\"]\n",
    "        data.loc[idx, [\"link\"]] = \"http://www.anmawon.com\" + link_str\n",
    "\n",
    "\n",
    "data.to_csv(save_path,sep=\",\", header=True, index=False)"
   ]
  }
 ],
 "metadata": {
  "kernelspec": {
   "display_name": "Python 3.9.12 ('massage')",
   "language": "python",
   "name": "python3"
  },
  "language_info": {
   "codemirror_mode": {
    "name": "ipython",
    "version": 3
   },
   "file_extension": ".py",
   "mimetype": "text/x-python",
   "name": "python",
   "nbconvert_exporter": "python",
   "pygments_lexer": "ipython3",
   "version": "3.9.12"
  },
  "orig_nbformat": 4,
  "vscode": {
   "interpreter": {
    "hash": "bcbe9af89f9ced2b5dfb92dfe5f8eef0d5165b908ed2874fc78a6dad57207d2c"
   }
  }
 },
 "nbformat": 4,
 "nbformat_minor": 2
}
