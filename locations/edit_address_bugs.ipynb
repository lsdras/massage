{
 "cells": [
  {
   "cell_type": "code",
   "execution_count": null,
   "metadata": {},
   "outputs": [],
   "source": [
    "# 주소만을 수정하되, 완전히 바꾸는게 아니라, geocoding API가 인식하는 수준 or 오탈자 수정 수준으로만 변경\n",
    "# ex) \n",
    "# 전라남도 여수시 좌수영로 지하 268 (오림동, 여수버스터미널) -> 전라남도 여수시 좌수영로 268 지하 (오림동, 여수버스터미널)\n",
    "# 서울시 송파구 백제고분로48길 43층(방이동 110-6) -> 서울시 송파구 백제고분로48길 4 3층(방이동 110-6)\n",
    "# 시 영등포구 도영로 80 (도림동 819) -> 서울시 영등포구 도영로 80 (도림동 819) \n",
    "\n",
    "# 이상 없을 경우에만 rename:  REgeolocated -> geolocated"
   ]
  },
  {
   "cell_type": "code",
   "execution_count": null,
   "metadata": {},
   "outputs": [],
   "source": [
    "from source.naver_geocode import NAVERGeocoding\n",
    "import pandas as pd\n",
    "from tqdm import tqdm"
   ]
  },
  {
   "cell_type": "code",
   "execution_count": null,
   "metadata": {},
   "outputs": [],
   "source": [
    "#load_path, save_path = \"./manual_edit_government_geolocated.csv\", \"./manual_edit_government_REgeolocated.csv\"\n",
    "load_path, save_path = \"./manual_edit_anmawon_geolocated.csv\", \"./manual_edit_anmawon_REgeolocated.csv\""
   ]
  },
  {
   "cell_type": "code",
   "execution_count": null,
   "metadata": {},
   "outputs": [],
   "source": [
    "geocoding = NAVERGeocoding(secret_key_path=\"/home/seungwon/workspace/massage/ts_code/sources/json/secret.json\", geocode_url=\"https://naveropenapi.apigw.ntruss.com/map-geocode/v2/geocode\")"
   ]
  },
  {
   "cell_type": "code",
   "execution_count": null,
   "metadata": {},
   "outputs": [],
   "source": [
    "data = pd.read_csv(load_path)\n",
    "data.fillna(\"\", inplace=True)\n",
    "for idx, row in tqdm(data.iterrows()):\n",
    "    if row[\"x\"] and row[\"y\"] and row[\"NAVER_addr\"] :\n",
    "        pass  # fill empty cases only\n",
    "    try:\n",
    "        addr = row[\"주소\"]\n",
    "        x, y, naver_addr = geocoding(addr)\n",
    "        data.loc[idx, [\"x\", \"y\", \"NAVER_addr\"]] = x, y, naver_addr\n",
    "    except Exception as e:  # 예외 발생한 아웃라이어에 대해서는 직접 수정 필요\n",
    "        print(idx, e)\n",
    "        pass\n",
    "\n",
    "data.to_csv(save_path,sep=\",\", header=True, index=False)"
   ]
  }
 ],
 "metadata": {
  "language_info": {
   "name": "python"
  },
  "orig_nbformat": 4
 },
 "nbformat": 4,
 "nbformat_minor": 2
}
