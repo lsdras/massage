{
 "cells": [
  {
   "cell_type": "code",
   "execution_count": null,
   "metadata": {},
   "outputs": [],
   "source": [
    "import os\n",
    "import sys\n",
    "sys.path.append(os.path.abspath('../'))\n",
    "import pandas as pd\n",
    "from pathlib import Path\n",
    "\n",
    "from source.naver_geocode import NAVERGeocoding\n",
    "\n",
    "from tqdm import tqdm\n",
    "\n",
    "datapath = \"localdata_gov_2022_08_07.csv\"\n",
    "save_path = \"./gov_geocoded.csv\"\n"
   ]
  },
  {
   "cell_type": "code",
   "execution_count": null,
   "metadata": {},
   "outputs": [],
   "source": [
    "data = pd.read_csv(datapath, encoding=\"CP949\", sep=\",\")\n",
    "data = data.loc[data[\"영업상태구분코드\"].isin([1])]  #  01: 영업/정상, 02:휴업, 03: 폐업, 04: 취소/말소/만료/정지/중지\n",
    "data.sort_values(by=[\"데이터갱신일자\"], ascending=False, inplace=True)\n",
    "\n",
    "data = data[[\"사업장명\", \"도로명전체주소\", \"소재지전화\"]]\n",
    "data.rename(columns={\"사업장명\":\"name\",\"도로명전체주소\": \"addr\", \"소재지전화\": \"phone\"}, inplace=True)\n",
    "data.fillna(\"\", inplace=True)\n"
   ]
  },
  {
   "cell_type": "code",
   "execution_count": null,
   "metadata": {},
   "outputs": [],
   "source": [
    "\n",
    "geocoding = NAVERGeocoding(secret_key_path=\"../../sources/json/secret.json\", geocode_url=\"https://naveropenapi.apigw.ntruss.com/map-geocode/v2/geocode\")\n",
    "\n",
    "if 'NAVER_addr' not in data.columns:\n",
    "    data = data.assign(x=\"\")\n",
    "    data = data.assign(y=\"\")\n",
    "    data = data.assign(NAVER_addr=\"\")\n",
    "else:\n",
    "    pass\n",
    "\n",
    "data.fillna(\"\", inplace=True)\n",
    "for idx, row in tqdm(data.iterrows()):\n",
    "    if row[\"x\"] and row[\"y\"] and row[\"NAVER_addr\"] :\n",
    "        continue  # fill empty cases only\n",
    "    try:\n",
    "        addr = row[\"addr\"]\n",
    "        x, y, naver_addr = geocoding(addr)\n",
    "        data.loc[idx, [\"x\", \"y\", \"NAVER_addr\"]] = x, y, naver_addr\n",
    "    except Exception as e:  # 예외 발생한 아웃라이어에 대해서는 직접 수정 필요\n",
    "        print(idx, e)\n",
    "        pass\n",
    "data.to_csv(save_path,sep=\",\", encoding=\"UTF-8\", header=True, index=False)"
   ]
  }
 ],
 "metadata": {
  "kernelspec": {
   "display_name": "Python 3.9.12 ('massage')",
   "language": "python",
   "name": "python3"
  },
  "language_info": {
   "codemirror_mode": {
    "name": "ipython",
    "version": 3
   },
   "file_extension": ".py",
   "mimetype": "text/x-python",
   "name": "python",
   "nbconvert_exporter": "python",
   "pygments_lexer": "ipython3",
   "version": "3.9.12"
  },
  "orig_nbformat": 4,
  "vscode": {
   "interpreter": {
    "hash": "bcbe9af89f9ced2b5dfb92dfe5f8eef0d5165b908ed2874fc78a6dad57207d2c"
   }
  }
 },
 "nbformat": 4,
 "nbformat_minor": 2
}
